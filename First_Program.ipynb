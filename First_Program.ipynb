{
  "nbformat": 4,
  "nbformat_minor": 0,
  "metadata": {
    "colab": {
      "provenance": [],
      "authorship_tag": "ABX9TyMzLCvVBbi2g0FVkmC9CKYF",
      "include_colab_link": true
    },
    "kernelspec": {
      "name": "python3",
      "display_name": "Python 3"
    },
    "language_info": {
      "name": "python"
    }
  },
  "cells": [
    {
      "cell_type": "markdown",
      "metadata": {
        "id": "view-in-github",
        "colab_type": "text"
      },
      "source": [
        "<a href=\"https://colab.research.google.com/github/pro2025/PROJECTS/blob/main/First_Program.ipynb\" target=\"_parent\"><img src=\"https://colab.research.google.com/assets/colab-badge.svg\" alt=\"Open In Colab\"/></a>"
      ]
    },
    {
      "cell_type": "code",
      "execution_count": null,
      "metadata": {
        "colab": {
          "base_uri": "https://localhost:8080/"
        },
        "id": "QesncJtz_Z-z",
        "outputId": "9c27a586-f15b-433c-e12f-21b56b98ba01"
      },
      "outputs": [
        {
          "output_type": "stream",
          "name": "stdout",
          "text": [
            "Tara Nikhita\n",
            "21\n"
          ]
        }
      ],
      "source": [
        "name=\"Tara Nikhita\"\n",
        "age=21\n",
        "print(name)\n",
        "print(age)"
      ]
    },
    {
      "cell_type": "code",
      "source": [
        "name=\"Tony Stark\"\n",
        "age=51\n",
        "print(name)\n",
        "print(age)"
      ],
      "metadata": {
        "colab": {
          "base_uri": "https://localhost:8080/"
        },
        "id": "j2Kv-jHSAlwu",
        "outputId": "dbc2908e-c3bd-45eb-9e3c-c63c7e8e4bd7"
      },
      "execution_count": null,
      "outputs": [
        {
          "output_type": "stream",
          "name": "stdout",
          "text": [
            "Tony Stark\n",
            "51\n"
          ]
        }
      ]
    },
    {
      "cell_type": "code",
      "source": [
        "name= input(\"What is your name?\")\n",
        "print(name)"
      ],
      "metadata": {
        "colab": {
          "base_uri": "https://localhost:8080/"
        },
        "id": "Y-m0zB1_DOJ6",
        "outputId": "8df1b284-4f25-478b-dfde-52cd1a807427"
      },
      "execution_count": null,
      "outputs": [
        {
          "output_type": "stream",
          "name": "stdout",
          "text": [
            "What is your name?sanjay dixit\n",
            "sanjay dixit\n"
          ]
        }
      ]
    },
    {
      "cell_type": "code",
      "source": [
        "nickname= input(\"What is your nick Name:\")\n",
        "print(nickname)"
      ],
      "metadata": {
        "colab": {
          "base_uri": "https://localhost:8080/"
        },
        "id": "Wk15F4WrEUhR",
        "outputId": "afd4257e-2bfe-4ae0-8de0-d0a53baf32cf"
      },
      "execution_count": null,
      "outputs": [
        {
          "output_type": "stream",
          "name": "stdout",
          "text": [
            "What is your nick Name:Tomy\n",
            "Tomy\n"
          ]
        }
      ]
    },
    {
      "cell_type": "code",
      "source": [
        "old_age = input(\"Enter your old age : \")\n",
        "new_age = int(old_age)+2\n",
        "print(new_age)"
      ],
      "metadata": {
        "colab": {
          "base_uri": "https://localhost:8080/"
        },
        "id": "zC1VMU4DE9df",
        "outputId": "4b68c727-fe47-419b-d0f9-beba8e109c98"
      },
      "execution_count": null,
      "outputs": [
        {
          "output_type": "stream",
          "name": "stdout",
          "text": [
            "Enter your old age : 20\n",
            "22\n"
          ]
        }
      ]
    },
    {
      "cell_type": "code",
      "source": [
        "print(float(18))\n",
        "print(int(19.23))\n",
        "print(bool(12))"
      ],
      "metadata": {
        "colab": {
          "base_uri": "https://localhost:8080/"
        },
        "id": "XGp-TiOoGKae",
        "outputId": "14791519-e93a-404e-a250-b94397bba18b"
      },
      "execution_count": null,
      "outputs": [
        {
          "output_type": "stream",
          "name": "stdout",
          "text": [
            "18.0\n",
            "19\n",
            "True\n"
          ]
        }
      ]
    },
    {
      "cell_type": "code",
      "source": [
        "\n",
        "first = input(\"Enter number 1:\")\n",
        "second = input(\"Enter number 2:\")\n",
        "third = int(first) + int(second)\n",
        "print(\"Sum of Numbers: \" + str(third))"
      ],
      "metadata": {
        "colab": {
          "base_uri": "https://localhost:8080/"
        },
        "id": "AZgp1NxrGwS9",
        "outputId": "eaff57fd-1ae4-46b0-844e-15a462ab066c"
      },
      "execution_count": null,
      "outputs": [
        {
          "output_type": "stream",
          "name": "stdout",
          "text": [
            "Enter number 1:10\n",
            "Enter number 2:20\n",
            "Sum of Numbers: 30\n"
          ]
        }
      ]
    },
    {
      "cell_type": "code",
      "source": [
        "name = input(\"Name = \")\n",
        "print(name)\n",
        "print(name.upper())\n",
        "print(name.lower())\n",
        "print(name.find('i'))\n",
        "print(name.replace(\"i\",\"a\"))\n",
        "print(\"in\" in name)"
      ],
      "metadata": {
        "colab": {
          "base_uri": "https://localhost:8080/"
        },
        "id": "MLl56tGbJ4kC",
        "outputId": "072b97c6-c7d2-478f-fa72-52c00f6ebee9"
      },
      "execution_count": null,
      "outputs": [
        {
          "output_type": "stream",
          "name": "stdout",
          "text": [
            "Name = indumati\n",
            "indumati\n",
            "INDUMATI\n",
            "indumati\n",
            "0\n",
            "andumata\n",
            "True\n"
          ]
        }
      ]
    },
    {
      "cell_type": "code",
      "source": [
        "# operations on numbers\n",
        "# taking input\n",
        "print(5/2)\n",
        "print(5//2)\n",
        "print(5%2)\n",
        "print(5**2)\n",
        "result= 2+3*5\n",
        "print(result)\n",
        "print(3<=2)\n",
        "print(3==2)\n",
        "print(3!=2)\n",
        "print(3!=3)\n",
        "\n"
      ],
      "metadata": {
        "colab": {
          "base_uri": "https://localhost:8080/"
        },
        "id": "B0MPXKrGN1pA",
        "outputId": "2a3bb546-b09a-452e-e2be-e6b80745591e"
      },
      "execution_count": null,
      "outputs": [
        {
          "output_type": "stream",
          "name": "stdout",
          "text": [
            "2.5\n",
            "2\n",
            "1\n",
            "25\n",
            "17\n",
            "False\n",
            "False\n",
            "True\n",
            "False\n"
          ]
        }
      ]
    },
    {
      "cell_type": "code",
      "source": [
        "print(2>3 or 2>1)\n",
        "print(2>3 and 2>1)\n",
        "print(not 2>3)"
      ],
      "metadata": {
        "colab": {
          "base_uri": "https://localhost:8080/"
        },
        "id": "NrlFzjZeSDbM",
        "outputId": "3d14fed0-45ae-4f37-c5a3-f8f919ff15d8"
      },
      "execution_count": null,
      "outputs": [
        {
          "output_type": "stream",
          "name": "stdout",
          "text": [
            "True\n",
            "False\n",
            "True\n"
          ]
        }
      ]
    },
    {
      "cell_type": "code",
      "source": [
        "age = input(\"Age= \")\n",
        "if int(age)>=18:\n",
        "    print(\"you are an adult\")\n",
        "    print(\"you can vote\")\n",
        "elif int(age)<18 and int(age)>3:\n",
        "    print(\"you are in school\")\n",
        "else:\n",
        "    print(\"you are a child\")\n",
        "print(\"Thank You\")"
      ],
      "metadata": {
        "colab": {
          "base_uri": "https://localhost:8080/"
        },
        "id": "VJyWvjqyNLzk",
        "outputId": "e11e00da-9162-44cd-e6a0-6a7fcab52f23"
      },
      "execution_count": null,
      "outputs": [
        {
          "output_type": "stream",
          "name": "stdout",
          "text": [
            "Age= 2\n",
            "you are a child\n",
            "Thank You\n"
          ]
        }
      ]
    },
    {
      "cell_type": "code",
      "source": [
        "# To build Calculator\n",
        "a = input(\"Number 1: \")\n",
        "b = input(\"Number 2: \")\n",
        "a = int(first)\n",
        "b = int(second)\n",
        "print(\"Enter + to add ,Enter - to substract, Enter * to multiply,Enter / to division, Enter % to find remainder\")\n",
        "c = input(\"Choice: \")\n",
        "if c == \"+\":\n",
        "    print(a + b)\n",
        "elif c == \"-\":\n",
        "    print(a - b)\n",
        "elif c == \"/\":\n",
        "    print(a / b)\n",
        "elif c == \"%\":\n",
        "    print(a % b)\n",
        "elif c == \"*\":\n",
        "    print(a * b)\n",
        "\n"
      ],
      "metadata": {
        "colab": {
          "base_uri": "https://localhost:8080/"
        },
        "id": "hLNRBaD0UNoM",
        "outputId": "5980e76c-9aad-41b0-f27d-169e20a113dd"
      },
      "execution_count": null,
      "outputs": [
        {
          "output_type": "stream",
          "name": "stdout",
          "text": [
            "Number 1: 5\n",
            "Number 2: 7\n",
            "Enter + to add ,Enter - to substract, Enter * to multiply,Enter / to division, Enter % to find remainder\n",
            "Choice: *\n",
            "200\n"
          ]
        }
      ]
    },
    {
      "cell_type": "code",
      "source": [],
      "metadata": {
        "id": "Gb2ZoQJDTea2"
      },
      "execution_count": null,
      "outputs": []
    }
  ]
}